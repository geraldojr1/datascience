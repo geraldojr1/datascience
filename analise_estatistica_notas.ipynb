{
 "cells": [
  {
   "cell_type": "markdown",
   "id": "971643ea",
   "metadata": {},
   "source": [
    "# 📊 Análise Estatística de Notas\n",
    "Este notebook realiza uma análise estatística detalhada sobre os dados de desempenho dos alunos, com base nos arquivos `notas.csv` e `notas_pivoteadas.csv`."
   ]
  },
  {
   "cell_type": "code",
   "execution_count": 2,
   "id": "f2f4e411",
   "metadata": {},
   "outputs": [],
   "source": [
    "\n",
    "import pandas as pd\n",
    "import numpy as np\n",
    "import matplotlib.pyplot as plt\n",
    "import seaborn as sns\n",
    "from scipy.stats import skew, kurtosis, pearsonr\n",
    "\n",
    "%matplotlib inline\n"
   ]
  },
  {
   "cell_type": "code",
   "execution_count": 3,
   "id": "2b6999a2",
   "metadata": {},
   "outputs": [],
   "source": [
    "\n",
    "df_notas = pd.read_csv('notas.csv')\n",
    "df_pivot = pd.read_csv('notas_pivoteadas.csv')\n"
   ]
  },
  {
   "cell_type": "code",
   "execution_count": 4,
   "id": "347bf5d1",
   "metadata": {},
   "outputs": [
    {
     "name": "stdout",
     "output_type": "stream",
     "text": [
      "\n",
      "=== Primeiras linhas de notas.csv ===\n",
      "   AlunoID     Código                          Disciplina Unidade 1 Unidade 2  \\\n",
      "0        1  DC/CCN061  PROCESSAMENTO DE LINGUAGEM NATURAL       7,1       9,4   \n",
      "1        1  DC/CCN040               SEGURANÇA EM SISTEMAS       9,3       8,5   \n",
      "2        1  DC/CCN038               SISTEMAS DISTRIBUÍDOS       8,0      10,0   \n",
      "3        1  DC/CCN071   TÓPICOS EM ENGENHARIA DE SOFTWARE       9,4       9,0   \n",
      "4        1  DC/CCN032                  COMPUTAÇÃO GRÁFICA       8,0       7,0   \n",
      "\n",
      "  Unidade 3 Unidade 4 Unidade 5 Prova Final Resultado  Faltas Situação  \n",
      "0      10,0       NaN       NaN         NaN       8,8      10       AM  \n",
      "1       8,1       NaN       NaN         NaN       8,6      14       AM  \n",
      "2       9,0       NaN       NaN         NaN       9,0      14       AM  \n",
      "3       7,5       NaN       NaN         NaN       8,6      12       AM  \n",
      "4      10,0       NaN       NaN         NaN       8,3      10       AM  \n",
      "\n",
      "=== Primeiras linhas de notas_pivoteadas.csv ===\n",
      "   ARQUITETURA DE COMPUTADORES  BANCO DE DADOS  BANCOS DE DADOS RELACIONAIS  \\\n",
      "0                     2.333333        9.666667                          NaN   \n",
      "1                     7.066667        9.166667                     8.500000   \n",
      "2                     7.000000        9.833333                     9.333333   \n",
      "3                     7.466667        8.666667                     7.100000   \n",
      "4                          NaN             NaN                          NaN   \n",
      "\n",
      "   CIRCUITOS DIGITAIS  COMPILADORES  COMPUTAÇÃO GRÁFICA  \\\n",
      "0            9.033333      7.333333            8.333333   \n",
      "1            8.533333      7.033333            7.166667   \n",
      "2            7.500000      7.266667            8.700000   \n",
      "3            7.433333      7.100000            6.433333   \n",
      "4            9.933333      7.866667            5.666667   \n",
      "\n",
      "   CÁLCULO DIFERENCIAL E INTEGRAL I  CÁLCULO DIFERENCIAL E INTEGRAL II  \\\n",
      "0                          9.333333                           9.266667   \n",
      "1                          7.100000                           6.233333   \n",
      "2                          6.333333                           8.133333   \n",
      "3                          8.633333                           7.466667   \n",
      "4                          8.766667                                NaN   \n",
      "\n",
      "   ELETRICIDADE E MAGNETISMO  EMPREENDEDORISMO  ...  \\\n",
      "0                   8.333333               NaN  ...   \n",
      "1                        NaN               NaN  ...   \n",
      "2                        NaN          9.066667  ...   \n",
      "3                        NaN               NaN  ...   \n",
      "4                        NaN               NaN  ...   \n",
      "\n",
      "   TRABLO DE CONCLUSÃO DE CURSO II - TCC II  \\\n",
      "0                                       NaN   \n",
      "1                                       NaN   \n",
      "2                                       NaN   \n",
      "3                                       NaN   \n",
      "4                                       NaN   \n",
      "\n",
      "   TÓPICOS EM ARQUITETURA DE COMPUTADORES  TÓPICOS EM BIOINFORMÁTICA  \\\n",
      "0                                     NaN                   8.333333   \n",
      "1                                     NaN                  10.000000   \n",
      "2                                     7.0                   5.100000   \n",
      "3                                     NaN                  10.000000   \n",
      "4                                     5.4                   6.400000   \n",
      "\n",
      "   TÓPICOS EM COMPUTAÇÃO APLICADA  TÓPICOS EM ENGENHARIA DE SOFTWARE  \\\n",
      "0                             NaN                           8.633333   \n",
      "1                             NaN                                NaN   \n",
      "2                        8.566667                           8.333333   \n",
      "3                             NaN                           7.866667   \n",
      "4                             NaN                           8.366667   \n",
      "\n",
      "   TÓPICOS EM PROGRAMAÇÃO  TÓPICOS EM REDES DE COMPUTADORES  \\\n",
      "0                     NaN                               NaN   \n",
      "1                     NaN                               NaN   \n",
      "2                     NaN                          9.866667   \n",
      "3                6.200000                          9.966667   \n",
      "4                6.666667                               NaN   \n",
      "\n",
      "   TÓPICOS EM SISTEMAS COMPUTACIONAIS  VISÃO COMPUTACIONAL  ÁLGEBRA LINEAR  \n",
      "0                                 NaN                  NaN        7.500000  \n",
      "1                                 NaN             8.433333        7.000000  \n",
      "2                                 NaN                  NaN        8.266667  \n",
      "3                                 NaN             6.500000        2.500000  \n",
      "4                                 NaN             6.433333             NaN  \n",
      "\n",
      "[5 rows x 56 columns]\n"
     ]
    }
   ],
   "source": [
    "\n",
    "print(\"\\n=== Primeiras linhas de notas.csv ===\")\n",
    "print(df_notas.head())\n",
    "\n",
    "print(\"\\n=== Primeiras linhas de notas_pivoteadas.csv ===\")\n",
    "print(df_pivot.head())\n"
   ]
  },
  {
   "cell_type": "code",
   "execution_count": 5,
   "id": "8e624bef",
   "metadata": {},
   "outputs": [
    {
     "name": "stdout",
     "output_type": "stream",
     "text": [
      "\n",
      "=== Estatísticas Descritivas (notas.csv) ===\n",
      "           AlunoID       Faltas\n",
      "count  1332.000000  1332.000000\n",
      "mean     20.939940     5.165165\n",
      "std      13.179886     5.867025\n",
      "min       1.000000     0.000000\n",
      "25%       9.000000     0.000000\n",
      "50%      20.000000     4.000000\n",
      "75%      34.000000     8.000000\n",
      "max      40.000000    60.000000\n"
     ]
    }
   ],
   "source": [
    "\n",
    "print(\"\\n=== Estatísticas Descritivas (notas.csv) ===\")\n",
    "print(df_notas.describe())\n"
   ]
  },
  {
   "cell_type": "code",
   "execution_count": 13,
   "id": "b8bb81e6",
   "metadata": {},
   "outputs": [],
   "source": [
    "\n",
    "if 'nota' in df_notas.columns:\n",
    "    notas = df_notas['nota'].dropna()\n",
    "    media = notas.mean()\n",
    "    desvio = notas.std()\n",
    "    cv = (desvio / media) * 100\n",
    "\n",
    "    print(f\"\\nMédia: {media:.2f}\")\n",
    "    print(f\"Desvio Padrão: {desvio:.2f}\")\n",
    "    print(f\"Coeficiente de Variação (CV): {cv:.2f}%\")\n",
    "    print(f\"Assimetria (Skewness): {skew(notas):.2f}\")\n",
    "    print(f\"Curtose (Kurtosis): {kurtosis(notas):.2f}\")\n"
   ]
  },
  {
   "cell_type": "code",
   "execution_count": null,
   "id": "0d9461e1",
   "metadata": {},
   "outputs": [
    {
     "ename": "KeyError",
     "evalue": "'nota'",
     "output_type": "error",
     "traceback": [
      "\u001b[1;31m---------------------------------------------------------------------------\u001b[0m",
      "\u001b[1;31mKeyError\u001b[0m                                  Traceback (most recent call last)",
      "File \u001b[1;32mc:\\Users\\Geraldo\\AppData\\Local\\Programs\\Python\\Python311\\Lib\\site-packages\\pandas\\core\\indexes\\base.py:3805\u001b[0m, in \u001b[0;36mIndex.get_loc\u001b[1;34m(self, key)\u001b[0m\n\u001b[0;32m   3804\u001b[0m \u001b[38;5;28;01mtry\u001b[39;00m:\n\u001b[1;32m-> 3805\u001b[0m     \u001b[38;5;28;01mreturn\u001b[39;00m \u001b[38;5;28;43mself\u001b[39;49m\u001b[38;5;241;43m.\u001b[39;49m\u001b[43m_engine\u001b[49m\u001b[38;5;241;43m.\u001b[39;49m\u001b[43mget_loc\u001b[49m\u001b[43m(\u001b[49m\u001b[43mcasted_key\u001b[49m\u001b[43m)\u001b[49m\n\u001b[0;32m   3806\u001b[0m \u001b[38;5;28;01mexcept\u001b[39;00m \u001b[38;5;167;01mKeyError\u001b[39;00m \u001b[38;5;28;01mas\u001b[39;00m err:\n",
      "File \u001b[1;32mindex.pyx:167\u001b[0m, in \u001b[0;36mpandas._libs.index.IndexEngine.get_loc\u001b[1;34m()\u001b[0m\n",
      "File \u001b[1;32mindex.pyx:196\u001b[0m, in \u001b[0;36mpandas._libs.index.IndexEngine.get_loc\u001b[1;34m()\u001b[0m\n",
      "File \u001b[1;32mpandas\\\\_libs\\\\hashtable_class_helper.pxi:7081\u001b[0m, in \u001b[0;36mpandas._libs.hashtable.PyObjectHashTable.get_item\u001b[1;34m()\u001b[0m\n",
      "File \u001b[1;32mpandas\\\\_libs\\\\hashtable_class_helper.pxi:7089\u001b[0m, in \u001b[0;36mpandas._libs.hashtable.PyObjectHashTable.get_item\u001b[1;34m()\u001b[0m\n",
      "\u001b[1;31mKeyError\u001b[0m: 'nota'",
      "\nThe above exception was the direct cause of the following exception:\n",
      "\u001b[1;31mKeyError\u001b[0m                                  Traceback (most recent call last)",
      "Cell \u001b[1;32mIn[15], line 1\u001b[0m\n\u001b[1;32m----> 1\u001b[0m notas \u001b[38;5;241m=\u001b[39m \u001b[43mdf_notas\u001b[49m\u001b[43m[\u001b[49m\u001b[38;5;124;43m'\u001b[39;49m\u001b[38;5;124;43mnota\u001b[39;49m\u001b[38;5;124;43m'\u001b[39;49m\u001b[43m]\u001b[49m\u001b[38;5;241m.\u001b[39mdropna()\n\u001b[0;32m      3\u001b[0m plt\u001b[38;5;241m.\u001b[39mfigure(figsize\u001b[38;5;241m=\u001b[39m(\u001b[38;5;241m8\u001b[39m, \u001b[38;5;241m5\u001b[39m))\n\u001b[0;32m      4\u001b[0m sns\u001b[38;5;241m.\u001b[39mhistplot(notas, bins\u001b[38;5;241m=\u001b[39m\u001b[38;5;241m10\u001b[39m, kde\u001b[38;5;241m=\u001b[39m\u001b[38;5;28;01mTrue\u001b[39;00m)\n",
      "File \u001b[1;32mc:\\Users\\Geraldo\\AppData\\Local\\Programs\\Python\\Python311\\Lib\\site-packages\\pandas\\core\\frame.py:4102\u001b[0m, in \u001b[0;36mDataFrame.__getitem__\u001b[1;34m(self, key)\u001b[0m\n\u001b[0;32m   4100\u001b[0m \u001b[38;5;28;01mif\u001b[39;00m \u001b[38;5;28mself\u001b[39m\u001b[38;5;241m.\u001b[39mcolumns\u001b[38;5;241m.\u001b[39mnlevels \u001b[38;5;241m>\u001b[39m \u001b[38;5;241m1\u001b[39m:\n\u001b[0;32m   4101\u001b[0m     \u001b[38;5;28;01mreturn\u001b[39;00m \u001b[38;5;28mself\u001b[39m\u001b[38;5;241m.\u001b[39m_getitem_multilevel(key)\n\u001b[1;32m-> 4102\u001b[0m indexer \u001b[38;5;241m=\u001b[39m \u001b[38;5;28;43mself\u001b[39;49m\u001b[38;5;241;43m.\u001b[39;49m\u001b[43mcolumns\u001b[49m\u001b[38;5;241;43m.\u001b[39;49m\u001b[43mget_loc\u001b[49m\u001b[43m(\u001b[49m\u001b[43mkey\u001b[49m\u001b[43m)\u001b[49m\n\u001b[0;32m   4103\u001b[0m \u001b[38;5;28;01mif\u001b[39;00m is_integer(indexer):\n\u001b[0;32m   4104\u001b[0m     indexer \u001b[38;5;241m=\u001b[39m [indexer]\n",
      "File \u001b[1;32mc:\\Users\\Geraldo\\AppData\\Local\\Programs\\Python\\Python311\\Lib\\site-packages\\pandas\\core\\indexes\\base.py:3812\u001b[0m, in \u001b[0;36mIndex.get_loc\u001b[1;34m(self, key)\u001b[0m\n\u001b[0;32m   3807\u001b[0m     \u001b[38;5;28;01mif\u001b[39;00m \u001b[38;5;28misinstance\u001b[39m(casted_key, \u001b[38;5;28mslice\u001b[39m) \u001b[38;5;129;01mor\u001b[39;00m (\n\u001b[0;32m   3808\u001b[0m         \u001b[38;5;28misinstance\u001b[39m(casted_key, abc\u001b[38;5;241m.\u001b[39mIterable)\n\u001b[0;32m   3809\u001b[0m         \u001b[38;5;129;01mand\u001b[39;00m \u001b[38;5;28many\u001b[39m(\u001b[38;5;28misinstance\u001b[39m(x, \u001b[38;5;28mslice\u001b[39m) \u001b[38;5;28;01mfor\u001b[39;00m x \u001b[38;5;129;01min\u001b[39;00m casted_key)\n\u001b[0;32m   3810\u001b[0m     ):\n\u001b[0;32m   3811\u001b[0m         \u001b[38;5;28;01mraise\u001b[39;00m InvalidIndexError(key)\n\u001b[1;32m-> 3812\u001b[0m     \u001b[38;5;28;01mraise\u001b[39;00m \u001b[38;5;167;01mKeyError\u001b[39;00m(key) \u001b[38;5;28;01mfrom\u001b[39;00m \u001b[38;5;21;01merr\u001b[39;00m\n\u001b[0;32m   3813\u001b[0m \u001b[38;5;28;01mexcept\u001b[39;00m \u001b[38;5;167;01mTypeError\u001b[39;00m:\n\u001b[0;32m   3814\u001b[0m     \u001b[38;5;66;03m# If we have a listlike key, _check_indexing_error will raise\u001b[39;00m\n\u001b[0;32m   3815\u001b[0m     \u001b[38;5;66;03m#  InvalidIndexError. Otherwise we fall through and re-raise\u001b[39;00m\n\u001b[0;32m   3816\u001b[0m     \u001b[38;5;66;03m#  the TypeError.\u001b[39;00m\n\u001b[0;32m   3817\u001b[0m     \u001b[38;5;28mself\u001b[39m\u001b[38;5;241m.\u001b[39m_check_indexing_error(key)\n",
      "\u001b[1;31mKeyError\u001b[0m: 'nota'"
     ]
    }
   ],
   "source": [
    "\n",
    "\n",
    "plt.figure(figsize=(8, 5))\n",
    "sns.histplot(notas, bins=10, kde=True)\n",
    "plt.title('Distribuição das Notas')\n",
    "plt.xlabel('Nota')\n",
    "plt.ylabel('Frequência')\n",
    "plt.show()\n"
   ]
  },
  {
   "cell_type": "code",
   "execution_count": 12,
   "id": "6d594d82",
   "metadata": {},
   "outputs": [],
   "source": [
    "\n",
    "if 'disciplina' in df_notas.columns:\n",
    "    plt.figure(figsize=(10, 6))\n",
    "    sns.boxplot(x='disciplina', y='nota', data=df_notas)\n",
    "    plt.title('Boxplot das Notas por Disciplina')\n",
    "    plt.xticks(rotation=45)\n",
    "    plt.show()\n"
   ]
  },
  {
   "cell_type": "code",
   "execution_count": null,
   "id": "41379a2d",
   "metadata": {},
   "outputs": [],
   "source": [
    "\n",
    "print(\"\\n=== Correlação entre Variáveis Numéricas (Notas Pivotadas) ===\")\n",
    "numeric_cols = df_pivot.select_dtypes(include=np.number).columns\n",
    "\n",
    "if len(numeric_cols) > 1:\n",
    "    correlation_matrix = df_pivot[numeric_cols].corr()\n",
    "    print(correlation_matrix)\n",
    "\n",
    "    plt.figure(figsize=(10, 8))\n",
    "    sns.heatmap(correlation_matrix, annot=True, cmap='coolwarm')\n",
    "    plt.title('Heatmap de Correlação entre Disciplinas (Pivotadas)')\n",
    "    plt.show()\n"
   ]
  },
  {
   "cell_type": "code",
   "execution_count": null,
   "id": "6425b5b4",
   "metadata": {},
   "outputs": [],
   "source": [
    "\n",
    "if len(numeric_cols) >= 2:\n",
    "    var1 = numeric_cols[0]\n",
    "    var2 = numeric_cols[1]\n",
    "    coef, p = pearsonr(df_pivot[var1].dropna(), df_pivot[var2].dropna())\n",
    "    print(f\"\\nCorrelação de Pearson entre '{var1}' e '{var2}':\")\n",
    "    print(f\"Coeficiente: {coef:.2f}, p-valor: {p:.4f}\")\n"
   ]
  },
  {
   "cell_type": "code",
   "execution_count": null,
   "id": "db7223ef",
   "metadata": {},
   "outputs": [],
   "source": [
    "\n",
    "if len(numeric_cols) >= 2:\n",
    "    plt.figure(figsize=(8,6))\n",
    "    sns.scatterplot(x=var1, y=var2, data=df_pivot)\n",
    "    plt.title(f'Dispersão entre {var1} e {var2}')\n",
    "    plt.xlabel(var1)\n",
    "    plt.ylabel(var2)\n",
    "    plt.show()\n"
   ]
  },
  {
   "cell_type": "code",
   "execution_count": null,
   "id": "f17a192b",
   "metadata": {},
   "outputs": [],
   "source": [
    "\n",
    "print(\"\\n=== Número de registros ===\")\n",
    "print(f\"Notas.csv: {df_notas.shape}\")\n",
    "print(f\"Notas Pivotadas: {df_pivot.shape}\")\n"
   ]
  }
 ],
 "metadata": {
  "kernelspec": {
   "display_name": "Python 3",
   "language": "python",
   "name": "python3"
  },
  "language_info": {
   "codemirror_mode": {
    "name": "ipython",
    "version": 3
   },
   "file_extension": ".py",
   "mimetype": "text/x-python",
   "name": "python",
   "nbconvert_exporter": "python",
   "pygments_lexer": "ipython3",
   "version": "3.11.1"
  }
 },
 "nbformat": 4,
 "nbformat_minor": 5
}
